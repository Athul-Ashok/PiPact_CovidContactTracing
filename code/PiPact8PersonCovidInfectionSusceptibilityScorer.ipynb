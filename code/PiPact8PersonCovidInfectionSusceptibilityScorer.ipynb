{
 "cells": [
  {
   "cell_type": "code",
   "execution_count": 1,
   "metadata": {},
   "outputs": [],
   "source": [
    "import pandas as pd\n",
    "from pandas import DataFrame\n",
    "import numpy as np\n",
    "import matplotlib.pyplot as plt\n",
    "import os,random\n",
    "import datetime as dt"
   ]
  },
  {
   "cell_type": "code",
   "execution_count": 2,
   "metadata": {},
   "outputs": [
    {
     "name": "stdout",
     "output_type": "stream",
     "text": [
      "# of Data Sets: 8\n"
     ]
    }
   ],
   "source": [
    "basePath = \"/Users/athulashok/\"\n",
    "data = []\n",
    "advin_microwave_3ft = pd.read_csv(os.path.join(basePath,\"advin_microwave_3ft.csv\"))\n",
    "data.append(advin_microwave_3ft)\n",
    "microwave_off_3ft = pd.read_csv (os.path.join(basePath,\"microwave_off_3ft.csv\"))\n",
    "data.append(microwave_off_3ft)\n",
    "microwave_on_3ft = pd.read_csv (os.path.join(basePath,\"microwave_on_3ft.csv\"))\n",
    "data.append(microwave_on_3ft)\n",
    "no_microwave_3ft = pd.read_csv (os.path.join(basePath,\"no_microwave_3ft.csv\"))\n",
    "data.append(no_microwave_3ft)\n",
    "fluctuating3_9ft = pd.read_csv (os.path.join(basePath,\"fluctuating3_9ft.csv\"))\n",
    "data.append(fluctuating3_9ft)\n",
    "twoscanners_data_two = pd.read_csv (os.path.join(basePath,\"twoscanners_data_two.csv\"))\n",
    "data.append(twoscanners_data_two)\n",
    "twoscanners_data_one = pd.read_csv (os.path.join(basePath,\"twoscanners_data_one.csv\"))\n",
    "data.append(twoscanners_data_one)\n",
    "humanwalk_acrossroom6_12ft = pd.read_csv (os.path.join(basePath,\"humanwalk_acrossroom6_12ft.csv\"))\n",
    "data.append(humanwalk_acrossroom6_12ft)\n",
    "print(\"# of Data Sets:\",len(data))"
   ]
  },
  {
   "cell_type": "code",
   "execution_count": 3,
   "metadata": {},
   "outputs": [
    {
     "name": "stdout",
     "output_type": "stream",
     "text": [
      "(859, 8)\n"
     ]
    },
    {
     "data": {
      "text/plain": [
       "['SCAN', 'ADDRESS', 'TIMESTAMP', 'UUID', 'MAJOR', 'MINOR', 'TX POWER', 'RSSI']"
      ]
     },
     "execution_count": 3,
     "metadata": {},
     "output_type": "execute_result"
    }
   ],
   "source": [
    "experimentDF =  pd.concat(data)\n",
    "print(experimentDF.shape)\n",
    "list(experimentDF)"
   ]
  },
  {
   "cell_type": "code",
   "execution_count": 4,
   "metadata": {},
   "outputs": [
    {
     "name": "stdout",
     "output_type": "stream",
     "text": [
      "['5b5c41b2-c0b1-11ea-a696-dca632336606'\n",
      " '89844736-c0ae-11ea-a583-dca632336606'\n",
      " '914783d8-c0af-11ea-9da1-dca632336606'\n",
      " 'f84cc80a-c0b3-11ea-a9d1-dca632336606'\n",
      " 'e07be8e0-c564-11ea-b230-dca632336606'\n",
      " '86ab1ce8-c49a-11ea-b6ed-dca63233ad91'\n",
      " '87157854-c49a-11ea-bacf-dca632336606'\n",
      " 'f651c4c7-b4bc-4656-b246-af8b709ef297']\n"
     ]
    }
   ],
   "source": [
    "deviceList = experimentDF.UUID.unique()\n",
    "print(deviceList)\n",
    "#Assign some random users to represent the UUID list\n",
    "deviceOwners = [\"Sam\",\"John\",\"George\",\"Kevin\",\"Lisa\",\"Collin\",\"Aidan\",\"Christina\"]"
   ]
  },
  {
   "cell_type": "code",
   "execution_count": 5,
   "metadata": {
    "scrolled": true
   },
   "outputs": [
    {
     "name": "stdout",
     "output_type": "stream",
     "text": [
      "    SCAN            ADDRESS                   TIMESTAMP  \\\n",
      "55    55  4A:B3:0F:30:CF:7A  2020-07-13 20:14:46.035875   \n",
      "\n",
      "                                    UUID  MAJOR  MINOR  TX POWER  RSSI  \\\n",
      "55  f651c4c7-b4bc-4656-b246-af8b709ef297  31488  51201       197   -71   \n",
      "\n",
      "   ADVERTISER RECEIVER  \n",
      "55      Aidan      Sam  \n"
     ]
    }
   ],
   "source": [
    "#Randomly Assign Advertiser and Reciever to simulate multiple devices chirping\n",
    "advtDevices = []\n",
    "recvDevices = []\n",
    "for index, row in experimentDF.iterrows(): \n",
    "    pickRandom = True\n",
    "    while pickRandom:\n",
    "        device_advt = random.choice(deviceOwners)\n",
    "        device_recv = random.choice(deviceOwners)\n",
    "        if (device_advt == device_recv):\n",
    "            continue\n",
    "        else:\n",
    "            #print(device_advt,device_recv)    \n",
    "            advtDevices.append(device_advt)\n",
    "            recvDevices.append(device_recv)\n",
    "            pickRandom = False\n",
    "experimentDF['ADVERTISER'] = advtDevices\n",
    "experimentDF['RECEIVER'] = recvDevices   \n",
    "print(experimentDF.tail(1))"
   ]
  },
  {
   "cell_type": "code",
   "execution_count": 6,
   "metadata": {},
   "outputs": [
    {
     "name": "stdout",
     "output_type": "stream",
     "text": [
      "   ADVERTISER   RECEIVER  RSSI\n",
      "0       Kevin        Sam   -72\n",
      "1        Lisa       John   -66\n",
      "2      George  Christina   -73\n",
      "3      Collin       Lisa   -72\n",
      "4        Lisa        Sam   -67\n",
      "..        ...        ...   ...\n",
      "51        Sam       John   -58\n",
      "52      Kevin  Christina   -35\n",
      "53  Christina     Collin   -54\n",
      "54       John     Collin   -54\n",
      "55      Aidan        Sam   -71\n",
      "\n",
      "[859 rows x 3 columns]\n"
     ]
    }
   ],
   "source": [
    "partySceneDF=experimentDF[[\"ADVERTISER\", \"RECEIVER\",\"RSSI\"]]\n",
    "list(partySceneDF)\n",
    "print(partySceneDF)\n",
    "partySceneDF.to_csv (r'MergedAugmentedDATA.csv', index = True, header=True)"
   ]
  },
  {
   "cell_type": "code",
   "execution_count": 7,
   "metadata": {},
   "outputs": [],
   "source": [
    "# Calculate the mean score based on RSSI values with respect to the asymptotic Covid Carrier\n",
    "def computeInfectionScore(carrier,targetList,partyDataSet):\n",
    "    proximityDF = pd.DataFrame()\n",
    "    proximityDF['SOURCE']=[carrier,carrier,carrier,carrier,carrier,carrier,carrier]\n",
    "    proximityDF['TARGET']= targetList\n",
    "    rssi_Mean =[]\n",
    "    rssi_Rank = []\n",
    "    for target in targetList:\n",
    "        rssi_count=0\n",
    "        rssi_total = 0\n",
    "        for index, row in partyDataSet.iterrows(): \n",
    "            if (row['ADVERTISER'] == carrier and row['RECEIVER'] == target ) or (row['RECEIVER'] == carrier and row['ADVERTISER'] == target ):\n",
    "                rssi_count = rssi_count + 1\n",
    "                rssi_total = rssi_total + row['RSSI']\n",
    "        rssi_mean = rssi_total/rssi_count\n",
    "        rssi_Mean.append(rssi_mean)\n",
    "        if (rssi_mean >= -50):\n",
    "            rssi_Rank.append(100)\n",
    "        else:\n",
    "            rssi_Rank.append(80) \n",
    "    proximityDF['RSSI_SCORE']= rssi_Mean \n",
    "    proximityDF['INFECTION_SCORE']= rssi_Rank \n",
    "    return proximityDF "
   ]
  },
  {
   "cell_type": "code",
   "execution_count": 8,
   "metadata": {},
   "outputs": [
    {
     "name": "stdout",
     "output_type": "stream",
     "text": [
      "  SOURCE     TARGET  RSSI_SCORE  INFECTION_SCORE\n",
      "0  Kevin        Sam  -54.566667               80\n",
      "1  Kevin       John  -44.458333              100\n",
      "2  Kevin     George  -46.783784              100\n",
      "3  Kevin       Lisa  -53.320000               80\n",
      "4  Kevin     Collin  -51.320000               80\n",
      "5  Kevin      Aidan  -54.750000               80\n",
      "6  Kevin  Christina  -50.282051               80\n"
     ]
    }
   ],
   "source": [
    "proximityDF = computeInfectionScore(\"Kevin\",[\"Sam\",\"John\",\"George\",\"Lisa\",\"Collin\",\"Aidan\",\"Christina\"],partySceneDF)\n",
    "print(proximityDF)"
   ]
  },
  {
   "cell_type": "code",
   "execution_count": 9,
   "metadata": {},
   "outputs": [],
   "source": [
    "def applyMASKWeights(maskList):\n",
    "    weightDiscount = 50 #discount 50 points to infectionscrore\n",
    "    maskScore = []\n",
    "    for index, row in proximityDF.iterrows(): \n",
    "        if(maskList[row[\"TARGET\"]]==False):\n",
    "            maskScore.append(row[\"INFECTION_SCORE\"])\n",
    "        else:  # reward mask behaviour\n",
    "            maskScore.append(row[\"INFECTION_SCORE\"] - weightDiscount)\n",
    "    proximityDF['INFECTION_SCORE_MASK']= maskScore         "
   ]
  },
  {
   "cell_type": "code",
   "execution_count": 10,
   "metadata": {},
   "outputs": [
    {
     "name": "stdout",
     "output_type": "stream",
     "text": [
      "  SOURCE     TARGET  RSSI_SCORE  INFECTION_SCORE  INFECTION_SCORE_MASK\n",
      "0  Kevin        Sam  -54.566667               80                    80\n",
      "1  Kevin       John  -44.458333              100                   100\n",
      "2  Kevin     George  -46.783784              100                    50\n",
      "3  Kevin       Lisa  -53.320000               80                    80\n",
      "4  Kevin     Collin  -51.320000               80                    80\n",
      "5  Kevin      Aidan  -54.750000               80                    80\n",
      "6  Kevin  Christina  -50.282051               80                    80\n"
     ]
    }
   ],
   "source": [
    "masklist = {\n",
    "    \"Sam\":False,\"John\":False,\"George\":True,\"Lisa\":False,\"Collin\":False,\"Aidan\":False,\"Christina\":False\n",
    "}\n",
    "#George Alone wears mask all the time\n",
    "applyMASKWeights(masklist)\n",
    "print(proximityDF)"
   ]
  },
  {
   "cell_type": "code",
   "execution_count": 11,
   "metadata": {},
   "outputs": [],
   "source": [
    "def applyAgeWeights(ageList):\n",
    "    #if above 65 your chances of infection is high,apply more weight to score or give a small discount\n",
    "    cutOFFAge=65\n",
    "    below70Weight = 20 #reward\n",
    "    AgeScore = []\n",
    "    for index, row in proximityDF.iterrows(): \n",
    "        if(ageList[row[\"TARGET\"]]>= cutOFFAge):\n",
    "            AgeScore.append(row[\"INFECTION_SCORE_MASK\"])\n",
    "        else:  # reward Younger Age behaviour\n",
    "            AgeScore.append(row[\"INFECTION_SCORE_MASK\"]-below70Weight)\n",
    "    proximityDF['INFECTION_SCORE_MASK_AGE']= AgeScore         "
   ]
  },
  {
   "cell_type": "code",
   "execution_count": 12,
   "metadata": {},
   "outputs": [
    {
     "name": "stdout",
     "output_type": "stream",
     "text": [
      "  SOURCE     TARGET  RSSI_SCORE  INFECTION_SCORE  INFECTION_SCORE_MASK  \\\n",
      "0  Kevin        Sam  -54.566667               80                    80   \n",
      "1  Kevin       John  -44.458333              100                   100   \n",
      "2  Kevin     George  -46.783784              100                    50   \n",
      "3  Kevin       Lisa  -53.320000               80                    80   \n",
      "4  Kevin     Collin  -51.320000               80                    80   \n",
      "5  Kevin      Aidan  -54.750000               80                    80   \n",
      "6  Kevin  Christina  -50.282051               80                    80   \n",
      "\n",
      "   INFECTION_SCORE_MASK_AGE  \n",
      "0                        60  \n",
      "1                        80  \n",
      "2                        30  \n",
      "3                        80  \n",
      "4                        60  \n",
      "5                        60  \n",
      "6                        60  \n"
     ]
    }
   ],
   "source": [
    "Agelist = {\n",
    "    \"Sam\":16,\"John\":46,\"George\":56,\"Lisa\":76,\"Collin\":40,\"Aidan\":60,\"Christina\":34\n",
    "}\n",
    "#Lisa is senior citizen and hence has more risk\n",
    "applyAgeWeights(Agelist)\n",
    "print(proximityDF)"
   ]
  },
  {
   "cell_type": "code",
   "execution_count": 13,
   "metadata": {},
   "outputs": [],
   "source": [
    "def applyAsthmaWeights(asthmaList):\n",
    "    #if asthmatic more chances of infection so a higher weight to score,so reward non asthma\n",
    "    nonAsthmaWT = 20 #penalize\n",
    "    AsthmaScore = []\n",
    "    for index, row in proximityDF.iterrows(): \n",
    "        if(asthmaList[row[\"TARGET\"]]==True):\n",
    "            AsthmaScore.append(row[\"INFECTION_SCORE_MASK_AGE\"])\n",
    "        else:  # reward mask behaviour\n",
    "            AsthmaScore.append(row[\"INFECTION_SCORE_MASK_AGE\"]-nonAsthmaWT)\n",
    "    proximityDF['INFECTION_SCORE_MASK_AGE_ASTHMA']= AsthmaScore "
   ]
  },
  {
   "cell_type": "code",
   "execution_count": 14,
   "metadata": {},
   "outputs": [
    {
     "name": "stdout",
     "output_type": "stream",
     "text": [
      "  SOURCE     TARGET  RSSI_SCORE  INFECTION_SCORE  INFECTION_SCORE_MASK  \\\n",
      "0  Kevin        Sam  -54.566667               80                    80   \n",
      "1  Kevin       John  -44.458333              100                   100   \n",
      "2  Kevin     George  -46.783784              100                    50   \n",
      "3  Kevin       Lisa  -53.320000               80                    80   \n",
      "4  Kevin     Collin  -51.320000               80                    80   \n",
      "5  Kevin      Aidan  -54.750000               80                    80   \n",
      "6  Kevin  Christina  -50.282051               80                    80   \n",
      "\n",
      "   INFECTION_SCORE_MASK_AGE  INFECTION_SCORE_MASK_AGE_ASTHMA  \n",
      "0                        60                               40  \n",
      "1                        80                               80  \n",
      "2                        30                               10  \n",
      "3                        80                               60  \n",
      "4                        60                               40  \n",
      "5                        60                               40  \n",
      "6                        60                               40  \n"
     ]
    }
   ],
   "source": [
    "asthmalist = {\n",
    "    \"Sam\":False,\"John\":True,\"George\":False,\"Lisa\":False,\"Collin\":False,\"Aidan\":False,\"Christina\":False\n",
    "}\n",
    "#George Alone wears mask all the time\n",
    "applyAsthmaWeights(asthmalist)\n",
    "print(proximityDF)"
   ]
  },
  {
   "cell_type": "code",
   "execution_count": 26,
   "metadata": {},
   "outputs": [],
   "source": [
    "def plotInfectionScoreGraph(proximityScoreDF):\n",
    "    import networkx as nx\n",
    "    displayList = proximityScoreDF.TARGET.str.cat(\"\\nScore:\"+proximityScoreDF.INFECTION_SCORE_MASK_AGE_ASTHMA.astype(str))\n",
    "    # Build a dataframe with your connections\n",
    "    df = pd.DataFrame({ 'from':proximityScoreDF[\"SOURCE\"], 'to':displayList, 'value':proximityScoreDF[\"INFECTION_SCORE_MASK_AGE_ASTHMA\"]})\n",
    "\n",
    "    # Build your graph\n",
    "    G=nx.from_pandas_edgelist(df, 'from', 'to',  create_using=nx.DiGraph())\n",
    "\n",
    "    # Customize the nodes:\n",
    "    fig = plt.figure()\n",
    "    nx.draw(G, with_labels=True, node_color='skyblue', node_size=8000, edge_color='red', width= 2, edge_cmap=plt.cm.Reds)\n",
    "    fig.set_size_inches(11, 8, forward=True)"
   ]
  },
  {
   "cell_type": "code",
   "execution_count": 27,
   "metadata": {},
   "outputs": [
    {
     "data": {
      "image/png": "[encoded data removed]",
      "text/plain": [
       "<Figure size 792x576 with 1 Axes>"
      ]
     },
     "metadata": {},
     "output_type": "display_data"
    }
   ],
   "source": [
    "plotInfectionScoreGraph(proximityDF)"
   ]
  }
 ],
 "metadata": {
  "@webio": {
   "lastCommId": null,
   "lastKernelId": null
  },
  "kernelspec": {
   "display_name": "Python 3",
   "language": "python",
   "name": "python3"
  },
  "language_info": {
   "codemirror_mode": {
    "name": "ipython",
    "version": 3
   },
   "file_extension": ".py",
   "mimetype": "text/x-python",
   "name": "python",
   "nbconvert_exporter": "python",
   "pygments_lexer": "ipython3",
   "version": "3.7.6"
  }
 },
 "nbformat": 4,
 "nbformat_minor": 4
}
